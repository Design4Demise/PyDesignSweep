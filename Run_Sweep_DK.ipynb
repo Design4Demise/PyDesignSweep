{
 "cells": [
  {
   "cell_type": "markdown",
   "metadata": {},
   "source": [
    "**Imports:**"
   ]
  },
  {
   "cell_type": "code",
   "execution_count": 1,
   "metadata": {},
   "outputs": [],
   "source": [
    "import os\n",
    "import csv\n",
    "import enum\n",
    "from tqdm.notebook import tqdm\n",
    "import numpy as np\n",
    "import itertools\n",
    "import datetime\n",
    "from collections import namedtuple, OrderedDict\n",
    "\n",
    "from pyxcel.sheet_manager import SheetManager\n",
    "from utils.check_spar import check_spar"
   ]
  },
  {
   "cell_type": "markdown",
   "metadata": {},
   "source": [
    "**DS Definitions:**"
   ]
  },
  {
   "cell_type": "code",
   "execution_count": 2,
   "metadata": {},
   "outputs": [],
   "source": [
    "class SheetReference(enum.Enum):\n",
    "    \n",
    "    # inputs\n",
    "    Aerofoil = ('Aerodynamics', 'V2')\n",
    "    AR = ('Aerodynamics', 'C3')\n",
    "    TaperRatio = ('Aerodynamics', 'C7')\n",
    "    \n",
    "    # outputs\n",
    "    BatteryMass = ('Mass Breakdown', 'C33')\n",
    "    MaxStress = ('Structures', 'L78')\n",
    "    \n",
    "    # other\n",
    "    AerofoilRange = ('Aerofoil Data','A4:A31')\n",
    "    Chord = ('Stability', 'B9')\n",
    "    SparWidth = ('Structures', 'A74')\n",
    "    SparHeight = ('Structures', 'B74')"
   ]
  },
  {
   "cell_type": "code",
   "execution_count": 3,
   "metadata": {},
   "outputs": [],
   "source": [
    "class CombinationReference(enum.IntEnum):\n",
    "    \n",
    "    Aerofoil = 0\n",
    "    AR = 1\n",
    "    TaperRatio = 2"
   ]
  },
  {
   "cell_type": "code",
   "execution_count": 4,
   "metadata": {},
   "outputs": [],
   "source": [
    "SparDesign = namedtuple('SparDesign', ('h', 'b', 'ix'))"
   ]
  },
  {
   "cell_type": "markdown",
   "metadata": {},
   "source": [
    "**Problem Setup:**"
   ]
  },
  {
   "cell_type": "code",
   "execution_count": 5,
   "metadata": {},
   "outputs": [],
   "source": [
    "# set tolerance for spar height / width - 0.1 denotes 10%\n",
    "hb_tolerance = 0.005"
   ]
  },
  {
   "cell_type": "code",
   "execution_count": 6,
   "metadata": {},
   "outputs": [],
   "source": [
    "sheet_path = 'DesignSpreadsheet.xlsx'\n",
    "af_dir = os.path.join(os.getcwd(), 'aerofoil_dat')"
   ]
  },
  {
   "cell_type": "code",
   "execution_count": 7,
   "metadata": {},
   "outputs": [],
   "source": [
    "workbook = SheetManager(sheet_path)"
   ]
  },
  {
   "cell_type": "code",
   "execution_count": 8,
   "metadata": {},
   "outputs": [],
   "source": [
    "input_keys = (SheetReference.Aerofoil, SheetReference.AR, SheetReference.TaperRatio)\n",
    "output_keys = (SheetReference.BatteryMass, SheetReference.MaxStress)"
   ]
  },
  {
   "cell_type": "code",
   "execution_count": 9,
   "metadata": {},
   "outputs": [],
   "source": [
    "# check all input keys are included in CombinationReference\n",
    "assert set(ref.name for ref in CombinationReference) == set(ref.name for ref in input_keys)\n",
    "\n",
    "# check all input/output keys are defined\n",
    "assert all(SheetReference[key.name] is not None for key in itertools.chain(input_keys, output_keys))"
   ]
  },
  {
   "cell_type": "code",
   "execution_count": 10,
   "metadata": {},
   "outputs": [],
   "source": [
    "aerofoils = list(filter(None, workbook.get_cell(*SheetReference.AerofoilRange.value).value))\n",
    "\n",
    "# need to increase resolution here\n",
    "ARs = np.arange(4, 12, 3)\n",
    "taper_ratios = np.arange(0.25, 0.61, 0.2)"
   ]
  },
  {
   "cell_type": "code",
   "execution_count": 11,
   "metadata": {},
   "outputs": [],
   "source": [
    "design_combinations = list(itertools.product(aerofoils, ARs, taper_ratios))"
   ]
  },
  {
   "cell_type": "markdown",
   "metadata": {},
   "source": [
    "**Run Design Sweep:**"
   ]
  },
  {
   "cell_type": "code",
   "execution_count": 12,
   "metadata": {},
   "outputs": [
    {
     "data": {
      "application/vnd.jupyter.widget-view+json": {
       "model_id": "d7f02677d8584e7393192970b0ee7646",
       "version_major": 2,
       "version_minor": 0
      },
      "text/plain": [
       "HBox(children=(HTML(value=''), FloatProgress(value=0.0, max=168.0), HTML(value='')))"
      ]
     },
     "metadata": {},
     "output_type": "display_data"
    },
    {
     "name": "stdout",
     "output_type": "stream",
     "text": [
      "OrderedDict([('Aerofoil', 'Avistar'), ('AR', 4), ('TaperRatio', 0.25), ('SparHeight', 0.01), ('SparWidth', 0.01), ('BatteryMass', 0.0746022691731182), ('MaxStress', 6692353.336758888)])\n",
      "\n",
      "OrderedDict([('Aerofoil', 'Avistar'), ('AR', 4), ('TaperRatio', 0.45), ('SparHeight', 0.0175), ('SparWidth', 0.0175), ('BatteryMass', 0.07449105643274627), ('MaxStress', 1307616.906203874)])\n",
      "\n",
      "OrderedDict([('Aerofoil', 'Avistar'), ('AR', 7), ('TaperRatio', 0.45), ('SparHeight', 0.0125), ('SparWidth', 0.0125), ('BatteryMass', 0.07235331080417093), ('MaxStress', 4746611.18551192)])\n",
      "\n",
      "OrderedDict([('Aerofoil', 'Avistar'), ('AR', 10), ('TaperRatio', 0.45), ('SparHeight', 0.01), ('SparWidth', 0.01), ('BatteryMass', 0.07158017752936216), ('MaxStress', 11080635.715450173)])\n",
      "\n",
      "OrderedDict([('Aerofoil', 'CG Ultimate'), ('AR', 4), ('TaperRatio', 0.45), ('SparHeight', 0.0125), ('SparWidth', 0.015000000000000001), ('BatteryMass', 0.06593848839849081), ('MaxStress', 2990083.992186192)])\n",
      "\n",
      "OrderedDict([('Aerofoil', 'CG Ultimate'), ('AR', 7), ('TaperRatio', 0.45), ('SparHeight', 0.01), ('SparWidth', 0.01), ('BatteryMass', 0.061983817642580354), ('MaxStress', 9270724.971702969)])\n",
      "\n",
      "OrderedDict([('Aerofoil', 'Clark - Y'), ('AR', 4), ('TaperRatio', 0.45), ('SparHeight', 0.0125), ('SparWidth', 0.015000000000000001), ('BatteryMass', 0.07888797358894711), ('MaxStress', 2990083.992186192)])\n",
      "\n",
      "OrderedDict([('Aerofoil', 'Clark - Y'), ('AR', 7), ('TaperRatio', 0.45), ('SparHeight', 0.01), ('SparWidth', 0.01), ('BatteryMass', 0.07736616327784271), ('MaxStress', 9270724.971702969)])\n",
      "\n",
      "OrderedDict([('Aerofoil', 'DH4009'), ('AR', 4), ('TaperRatio', 0.45), ('SparHeight', 0.01), ('SparWidth', 0.01), ('BatteryMass', 0.060055821367315285), ('MaxStress', 7008009.356686389)])\n",
      "\n",
      "OrderedDict([('Aerofoil', 'E472'), ('AR', 4), ('TaperRatio', 0.45), ('SparHeight', 0.015000000000000001), ('SparWidth', 0.015000000000000001), ('BatteryMass', 0.05520982473161364), ('MaxStress', 2076447.216795967)])\n",
      "\n",
      "OrderedDict([('Aerofoil', 'E472'), ('AR', 7), ('TaperRatio', 0.45), ('SparHeight', 0.01), ('SparWidth', 0.01), ('BatteryMass', 0.04462953857831041), ('MaxStress', 9270724.971702969)])\n",
      "\n",
      "OrderedDict([('Aerofoil', 'ESA'), ('AR', 4), ('TaperRatio', 0.45), ('SparHeight', 0.0125), ('SparWidth', 0.0125), ('BatteryMass', 0.06888517960845976), ('MaxStress', 3588100.7906234306)])\n",
      "\n",
      "OrderedDict([('Aerofoil', 'ESA'), ('AR', 7), ('TaperRatio', 0.45), ('SparHeight', 0.01), ('SparWidth', 0.01), ('BatteryMass', 0.06505785259657344), ('MaxStress', 9270724.971702969)])\n",
      "\n",
      "OrderedDict([('Aerofoil', 'Falcon-56 MkII'), ('AR', 4), ('TaperRatio', 0.25), ('SparHeight', 0.01), ('SparWidth', 0.01), ('BatteryMass', 0.06805566247336205), ('MaxStress', 6692353.336758888)])\n",
      "\n",
      "OrderedDict([('Aerofoil', 'Falcon-56 MkII'), ('AR', 4), ('TaperRatio', 0.45), ('SparHeight', 0.0175), ('SparWidth', 0.015000000000000001), ('BatteryMass', 0.0687243257502542), ('MaxStress', 1525553.057237853)])\n",
      "\n",
      "OrderedDict([('Aerofoil', 'Falcon-56 MkII'), ('AR', 7), ('TaperRatio', 0.45), ('SparHeight', 0.0125), ('SparWidth', 0.0125), ('BatteryMass', 0.0659275456216343), ('MaxStress', 4746611.18551192)])\n",
      "\n",
      "OrderedDict([('Aerofoil', 'Falcon-56 MkII'), ('AR', 10), ('TaperRatio', 0.45), ('SparHeight', 0.01), ('SparWidth', 0.01), ('BatteryMass', 0.06486808320707359), ('MaxStress', 11080635.715450173)])\n",
      "\n",
      "OrderedDict([('Aerofoil', 'PT - 40 (A)'), ('AR', 4), ('TaperRatio', 0.45), ('SparHeight', 0.0125), ('SparWidth', 0.015000000000000001), ('BatteryMass', 0.07818749331504633), ('MaxStress', 2990083.992186192)])\n",
      "\n",
      "OrderedDict([('Aerofoil', 'PT - 40 (A)'), ('AR', 7), ('TaperRatio', 0.45), ('SparHeight', 0.01), ('SparWidth', 0.01), ('BatteryMass', 0.08095889278735288), ('MaxStress', 9270724.971702969)])\n",
      "\n",
      "OrderedDict([('Aerofoil', 'PT - 40 (B)'), ('AR', 4), ('TaperRatio', 0.45), ('SparHeight', 0.0125), ('SparWidth', 0.015000000000000001), ('BatteryMass', 0.07341086083580597), ('MaxStress', 2990083.992186192)])\n",
      "\n",
      "OrderedDict([('Aerofoil', 'PT - 40 (B)'), ('AR', 7), ('TaperRatio', 0.45), ('SparHeight', 0.01), ('SparWidth', 0.01), ('BatteryMass', 0.07382214315271203), ('MaxStress', 9270724.971702969)])\n",
      "\n",
      "OrderedDict([('Aerofoil', 'S8036'), ('AR', 4), ('TaperRatio', 0.25), ('SparHeight', 0.0125), ('SparWidth', 0.0125), ('BatteryMass', 0.08140051341619897), ('MaxStress', 3426484.908420551)])\n",
      "\n",
      "OrderedDict([('Aerofoil', 'S8036'), ('AR', 4), ('TaperRatio', 0.45), ('SparHeight', 0.020000000000000004), ('SparWidth', 0.020000000000000004), ('BatteryMass', 0.08075657292801681), ('MaxStress', 876001.169585798)])\n",
      "\n",
      "OrderedDict([('Aerofoil', 'S8036'), ('AR', 7), ('TaperRatio', 0.45), ('SparHeight', 0.015000000000000001), ('SparWidth', 0.015000000000000001), ('BatteryMass', 0.07855488306829377), ('MaxStress', 2746881.473097176)])\n",
      "\n",
      "OrderedDict([('Aerofoil', 'S8036'), ('AR', 10), ('TaperRatio', 0.45), ('SparHeight', 0.0125), ('SparWidth', 0.0125), ('BatteryMass', 0.07764672057875499), ('MaxStress', 5673285.486310488)])\n",
      "\n",
      "OrderedDict([('Aerofoil', 'S8037'), ('AR', 4), ('TaperRatio', 0.25), ('SparHeight', 0.0125), ('SparWidth', 0.0125), ('BatteryMass', 0.08741010275080571), ('MaxStress', 3426484.908420551)])\n",
      "\n",
      "OrderedDict([('Aerofoil', 'S8037'), ('AR', 4), ('TaperRatio', 0.45), ('SparHeight', 0.020000000000000004), ('SparWidth', 0.020000000000000004), ('BatteryMass', 0.08619679135075158), ('MaxStress', 876001.169585798)])\n",
      "\n",
      "OrderedDict([('Aerofoil', 'S8037'), ('AR', 7), ('TaperRatio', 0.45), ('SparHeight', 0.015000000000000001), ('SparWidth', 0.015000000000000001), ('BatteryMass', 0.08410042304637137), ('MaxStress', 2746881.473097176)])\n",
      "\n",
      "OrderedDict([('Aerofoil', 'S8037'), ('AR', 10), ('TaperRatio', 0.45), ('SparHeight', 0.0125), ('SparWidth', 0.0125), ('BatteryMass', 0.08322711735044483), ('MaxStress', 5673285.486310488)])\n",
      "\n",
      "OrderedDict([('Aerofoil', 'Trainer 60'), ('AR', 4), ('TaperRatio', 0.25), ('SparHeight', 0.015000000000000001), ('SparWidth', 0.01), ('BatteryMass', 0.07548792720692445), ('MaxStress', 2974379.260781728)])\n",
      "\n",
      "OrderedDict([('Aerofoil', 'Trainer 60'), ('AR', 4), ('TaperRatio', 0.45), ('SparHeight', 0.022500000000000003), ('SparWidth', 0.022500000000000003), ('BatteryMass', 0.07541738348290229), ('MaxStress', 615243.6197913976)])\n",
      "\n",
      "OrderedDict([('Aerofoil', 'Trainer 60'), ('AR', 7), ('TaperRatio', 0.25), ('SparHeight', 0.01), ('SparWidth', 0.01), ('BatteryMass', 0.07054815022254107), ('MaxStress', 8853151.30741866)])\n",
      "\n",
      "OrderedDict([('Aerofoil', 'Trainer 60'), ('AR', 7), ('TaperRatio', 0.45), ('SparHeight', 0.0175), ('SparWidth', 0.0125), ('BatteryMass', 0.0723816916451535), ('MaxStress', 2421740.4007713874)])\n",
      "\n",
      "OrderedDict([('Aerofoil', 'Trainer 60'), ('AR', 10), ('TaperRatio', 0.45), ('SparHeight', 0.0125), ('SparWidth', 0.015000000000000001), ('BatteryMass', 0.07119611651147785), ('MaxStress', 4727737.905258738)])\n",
      "\n",
      "OrderedDict([('Aerofoil', 'Ultra - Sport 1000'), ('AR', 4), ('TaperRatio', 0.25), ('SparHeight', 0.015000000000000001), ('SparWidth', 0.0125), ('BatteryMass', 0.07797950734937123), ('MaxStress', 2379503.4086253825)])\n",
      "\n",
      "OrderedDict([('Aerofoil', 'Ultra - Sport 1000'), ('AR', 4), ('TaperRatio', 0.45), ('SparHeight', 0.022500000000000003), ('SparWidth', 0.022500000000000003), ('BatteryMass', 0.07761483235210906), ('MaxStress', 615243.6197913976)])\n",
      "\n",
      "OrderedDict([('Aerofoil', 'Ultra - Sport 1000'), ('AR', 7), ('TaperRatio', 0.25), ('SparHeight', 0.01), ('SparWidth', 0.01), ('BatteryMass', 0.07320942241165317), ('MaxStress', 8853151.30741866)])\n",
      "\n",
      "OrderedDict([('Aerofoil', 'Ultra - Sport 1000'), ('AR', 7), ('TaperRatio', 0.45), ('SparHeight', 0.0175), ('SparWidth', 0.015000000000000001), ('BatteryMass', 0.07484371663956761), ('MaxStress', 2018117.000642823)])\n",
      "\n",
      "OrderedDict([('Aerofoil', 'Ultra - Sport 1000'), ('AR', 10), ('TaperRatio', 0.45), ('SparHeight', 0.015000000000000001), ('SparWidth', 0.01), ('BatteryMass', 0.07376459448022625), ('MaxStress', 4924726.98464452)])\n",
      "\n",
      "OrderedDict([('Aerofoil', 'E231'), ('AR', 4), ('TaperRatio', 0.25), ('SparHeight', 0.01), ('SparWidth', 0.01), ('BatteryMass', 0.08821315553658148), ('MaxStress', 6692353.336758888)])\n",
      "\n",
      "OrderedDict([('Aerofoil', 'E231'), ('AR', 4), ('TaperRatio', 0.45), ('SparHeight', 0.015000000000000001), ('SparWidth', 0.015000000000000001), ('BatteryMass', 0.08683544499616407), ('MaxStress', 2076447.216795967)])\n",
      "\n",
      "OrderedDict([('Aerofoil', 'E231'), ('AR', 7), ('TaperRatio', 0.45), ('SparHeight', 0.01), ('SparWidth', 0.01), ('BatteryMass', 0.0849219116283121), ('MaxStress', 9270724.971702969)])\n",
      "\n",
      "OrderedDict([('Aerofoil', 'E231'), ('AR', 10), ('TaperRatio', 0.45), ('SparHeight', 0.01), ('SparWidth', 0.01), ('BatteryMass', 0.08405379608253585), ('MaxStress', 11080635.715450173)])\n",
      "\n",
      "OrderedDict([('Aerofoil', 'E374 (B)'), ('AR', 4), ('TaperRatio', 0.45), ('SparHeight', 0.0125), ('SparWidth', 0.0125), ('BatteryMass', 0.0765792798496574), ('MaxStress', 3588100.7906234306)])\n",
      "\n",
      "OrderedDict([('Aerofoil', 'E374 (B)'), ('AR', 7), ('TaperRatio', 0.45), ('SparHeight', 0.01), ('SparWidth', 0.01), ('BatteryMass', 0.0730239342910251), ('MaxStress', 9270724.971702969)])\n",
      "\n",
      "OrderedDict([('Aerofoil', 'E387 (C)'), ('AR', 4), ('TaperRatio', 0.45), ('SparHeight', 0.01), ('SparWidth', 0.01), ('BatteryMass', 0.07743499598544687), ('MaxStress', 7008009.356686389)])\n",
      "\n",
      "OrderedDict([('Aerofoil', 'RG14'), ('AR', 4), ('TaperRatio', 0.45), ('SparHeight', 0.01), ('SparWidth', 0.01), ('BatteryMass', 0.05404265469331087), ('MaxStress', 7008009.356686389)])\n",
      "\n",
      "OrderedDict([('Aerofoil', 'RG15 (C)'), ('AR', 4), ('TaperRatio', 0.45), ('SparHeight', 0.01), ('SparWidth', 0.01), ('BatteryMass', 0.0552953832020592), ('MaxStress', 7008009.356686389)])\n",
      "\n",
      "OrderedDict([('Aerofoil', 'S7012 (B)'), ('AR', 4), ('TaperRatio', 0.45), ('SparHeight', 0.01), ('SparWidth', 0.01), ('BatteryMass', 0.06264840838316388), ('MaxStress', 7008009.356686389)])\n",
      "\n",
      "OrderedDict([('Aerofoil', 'S7075 (A)'), ('AR', 4), ('TaperRatio', 0.45), ('SparHeight', 0.01), ('SparWidth', 0.01), ('BatteryMass', 0.06189524119563008), ('MaxStress', 7008009.356686389)])\n",
      "\n",
      "OrderedDict([('Aerofoil', 'S7075 (B)'), ('AR', 4), ('TaperRatio', 0.45), ('SparHeight', 0.01), ('SparWidth', 0.01), ('BatteryMass', 0.06298948125110215), ('MaxStress', 7008009.356686389)])\n",
      "\n",
      "OrderedDict([('Aerofoil', 'SA7035'), ('AR', 4), ('TaperRatio', 0.45), ('SparHeight', 0.01), ('SparWidth', 0.01), ('BatteryMass', 0.08893651153345683), ('MaxStress', 7008009.356686389)])\n",
      "\n",
      "OrderedDict([('Aerofoil', 'SA7036 (A)'), ('AR', 4), ('TaperRatio', 0.45), ('SparHeight', 0.01), ('SparWidth', 0.01), ('BatteryMass', 0.05965962632562746), ('MaxStress', 7008009.356686389)])\n",
      "\n",
      "OrderedDict([('Aerofoil', 'SA7036 (B)'), ('AR', 4), ('TaperRatio', 0.45), ('SparHeight', 0.01), ('SparWidth', 0.01), ('BatteryMass', 0.062413817124310995), ('MaxStress', 7008009.356686389)])\n",
      "\n",
      "OrderedDict([('Aerofoil', 'SA7038'), ('AR', 4), ('TaperRatio', 0.45), ('SparHeight', 0.01), ('SparWidth', 0.01), ('BatteryMass', 0.06476191878416682), ('MaxStress', 7008009.356686389)])\n",
      "\n",
      "OrderedDict([('Aerofoil', 'SD7037(D)'), ('AR', 4), ('TaperRatio', 0.45), ('SparHeight', 0.01), ('SparWidth', 0.01), ('BatteryMass', 0.062322085975901234), ('MaxStress', 7008009.356686389)])\n",
      "\n",
      "OrderedDict([('Aerofoil', 'SD7037 ( E )'), ('AR', 4), ('TaperRatio', 0.45), ('SparHeight', 0.01), ('SparWidth', 0.01), ('BatteryMass', 0.06242535262170943), ('MaxStress', 7008009.356686389)])\n",
      "\n",
      "\n"
     ]
    }
   ],
   "source": [
    "# define t_epoch to avoid overwriting file\n",
    "t_epoch = int(datetime.datetime.now().timestamp())\n",
    "csv_path = f'design_sweep_{t_epoch}.csv'\n",
    "\n",
    "for idx, combination in enumerate(tqdm(design_combinations)):\n",
    "    \n",
    "    # setup dict\n",
    "    design_params = OrderedDict()\n",
    "    \n",
    "    # change each cell\n",
    "    for key in input_keys:\n",
    "        workbook.change_cell(*key.value, combination[CombinationReference[key.name]])\n",
    "        design_params[key.name] = combination[CombinationReference[key.name]]\n",
    "        \n",
    "    # load aerofoil\n",
    "    af_path = os.path.join(af_dir, f'{combination[CombinationReference.Aerofoil]}.dat')\n",
    "    \n",
    "    try:\n",
    "        af = np.loadtxt(af_path, skiprows=1, delimiter=',')\n",
    "    except OSError:\n",
    "        continue\n",
    "    \n",
    "    # get aerofoil chord length\n",
    "    chord_length = workbook.check_cell(*SheetReference.Chord.value)\n",
    "    \n",
    "    b_range = np.arange(0.01,0.04,0.0025)\n",
    "    h_range = np.arange(0.01,0.04,0.0025)\n",
    "    \n",
    "    # get spar with max(ix)\n",
    "    spar = SparDesign(0, 0, 0)\n",
    "    for b, h in itertools.product(b_range, h_range):\n",
    "        ix = b * h ** 3 / 12\n",
    "        \n",
    "        if check_spar(af, chord_length, h, b, h * hb_tolerance, b * hb_tolerance) and ix > spar.ix:\n",
    "            spar = SparDesign(h, b, ix)\n",
    "    \n",
    "    if spar.h == 0 or spar.b== 0:\n",
    "        design_params[SheetReference.SparHeight.name] = spar.h\n",
    "        design_params[SheetReference.SparWidth.name] = spar.b\n",
    "        for key in output_keys:\n",
    "            design_params[key.name] = 'SPAR FAIL'\n",
    "    else:\n",
    "        # set spar values\n",
    "        workbook.change_cell(*SheetReference.SparHeight.value, spar.h)\n",
    "        design_params[SheetReference.SparHeight.name] = spar.h\n",
    "\n",
    "        workbook.change_cell(*SheetReference.SparWidth.value, spar.b)\n",
    "        design_params[SheetReference.SparWidth.name] = spar.b\n",
    "\n",
    "        for key in output_keys:\n",
    "            design_params[key.name] = workbook.check_cell(*key.value)\n",
    "    \n",
    "    # write to csv\n",
    "    csv_exists = os.path.exists(csv_path)\n",
    "    with open(csv_path, 'a+') as csvfile:\n",
    "        writer = csv.DictWriter(csvfile, fieldnames=design_params, delimiter=',', lineterminator='\\n')\n",
    "        \n",
    "        if not csv_exists:\n",
    "            writer.writeheader()\n",
    "            \n",
    "        writer.writerow(design_params)"
   ]
  },
  {
   "cell_type": "markdown",
   "metadata": {},
   "source": [
    "OrderedDict([('Aerofoil', 'S7075 (B)'), ('AR', 4), ('TaperRatio', 0.45), ('SparHeight', 0.01), ('SparWidth', 0.01), ('BatteryMass', None), ('MaxStress', 7008009.356686389)])"
   ]
  }
 ],
 "metadata": {
  "kernelspec": {
   "display_name": "Python 3",
   "language": "python",
   "name": "python3"
  },
  "language_info": {
   "codemirror_mode": {
    "name": "ipython",
    "version": 3
   },
   "file_extension": ".py",
   "mimetype": "text/x-python",
   "name": "python",
   "nbconvert_exporter": "python",
   "pygments_lexer": "ipython3",
   "version": "3.7.9"
  }
 },
 "nbformat": 4,
 "nbformat_minor": 4
}
