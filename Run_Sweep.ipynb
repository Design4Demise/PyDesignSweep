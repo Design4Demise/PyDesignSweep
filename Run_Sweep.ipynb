{
 "cells": [
  {
   "cell_type": "code",
   "execution_count": 1,
   "metadata": {},
   "outputs": [],
   "source": [
    "from pyxcel.sheet_manager import SheetManager"
   ]
  },
  {
   "cell_type": "code",
   "execution_count": 2,
   "metadata": {},
   "outputs": [],
   "source": [
    "from tqdm.notebook import trange,tqdm"
   ]
  },
  {
   "cell_type": "code",
   "execution_count": 3,
   "metadata": {},
   "outputs": [],
   "source": [
    "import numpy as np\n",
    "import itertools\n",
    "import pandas as pd\n",
    "import seaborn as sns"
   ]
  },
  {
   "cell_type": "code",
   "execution_count": 4,
   "metadata": {},
   "outputs": [],
   "source": [
    "workbook=SheetManager('Design_Spreadsheet.xlsx')"
   ]
  },
  {
   "cell_type": "code",
   "execution_count": 5,
   "metadata": {},
   "outputs": [
    {
     "data": {
      "text/plain": [
       "{'Aerofoil': ('Aerodynamics', 'V2'),\n",
       " 'AR': ('Aerodynamics', 'C3'),\n",
       " 'Taper Ratio': ('Aerodynamics', 'C7'),\n",
       " 'b': ('Structures', 'C2'),\n",
       " 'h': ('Structures', 'C3')}"
      ]
     },
     "execution_count": 5,
     "metadata": {},
     "output_type": "execute_result"
    }
   ],
   "source": [
    "input_keys=['Aerofoil','AR','Taper Ratio','b','h']\n",
    "input_locations=[('Aerodynamics','V2'),('Aerodynamics','C3'),('Aerodynamics','C7'),('Structures','C2'),('Structures','C3')]\n",
    "input_cell_locations = dict(zip(input_keys,input_locations))\n",
    "input_cell_locations"
   ]
  },
  {
   "cell_type": "code",
   "execution_count": 6,
   "metadata": {},
   "outputs": [],
   "source": [
    "aerofoils = workbook.get_cell('Aerofoil Data','A1:A50').value\n",
    "aerofoils= list(filter(None, aerofoils))\n",
    "\n",
    "ARs = np.arange(4,12,3)\n",
    "taper_ratios = np.arange(0.25,0.61,0.2)\n",
    " \n",
    "widths = np.linspace(4,10,3)*1e-2\n",
    "heights = np.linspace(4,10,3)*1e-2"
   ]
  },
  {
   "cell_type": "code",
   "execution_count": 7,
   "metadata": {},
   "outputs": [
    {
     "data": {
      "text/plain": [
       "{'Battery Mass': ('Mass Breakdown', 'C32'), 'Max Stress': ('Structures', 'C4')}"
      ]
     },
     "execution_count": 7,
     "metadata": {},
     "output_type": "execute_result"
    }
   ],
   "source": [
    "output_keys=['Battery Mass','Max Stress']\n",
    "output_locations=[('Mass Breakdown','C32'),('Structures','C4')]\n",
    "output_cell_locations = dict(zip(output_keys,output_locations))\n",
    "output_cell_locations"
   ]
  },
  {
   "cell_type": "code",
   "execution_count": 8,
   "metadata": {},
   "outputs": [],
   "source": [
    "combinations=list(itertools.product(aerofoils,ARs,taper_ratios,widths,heights))\n",
    "df=pd.DataFrame(combinations,columns=input_keys)\n",
    "for key in output_keys:\n",
    "    df[key]=None\n",
    "    "
   ]
  },
  {
   "cell_type": "code",
   "execution_count": 9,
   "metadata": {},
   "outputs": [
    {
     "data": {
      "text/html": [
       "<div>\n",
       "<style scoped>\n",
       "    .dataframe tbody tr th:only-of-type {\n",
       "        vertical-align: middle;\n",
       "    }\n",
       "\n",
       "    .dataframe tbody tr th {\n",
       "        vertical-align: top;\n",
       "    }\n",
       "\n",
       "    .dataframe thead th {\n",
       "        text-align: right;\n",
       "    }\n",
       "</style>\n",
       "<table border=\"1\" class=\"dataframe\">\n",
       "  <thead>\n",
       "    <tr style=\"text-align: right;\">\n",
       "      <th></th>\n",
       "      <th>Aerofoil</th>\n",
       "      <th>AR</th>\n",
       "      <th>Taper Ratio</th>\n",
       "      <th>b</th>\n",
       "      <th>h</th>\n",
       "      <th>Battery Mass</th>\n",
       "      <th>Max Stress</th>\n",
       "    </tr>\n",
       "  </thead>\n",
       "  <tbody>\n",
       "    <tr>\n",
       "      <th>0</th>\n",
       "      <td>NACA 2412</td>\n",
       "      <td>4</td>\n",
       "      <td>0.25</td>\n",
       "      <td>0.04</td>\n",
       "      <td>0.04</td>\n",
       "      <td>None</td>\n",
       "      <td>None</td>\n",
       "    </tr>\n",
       "    <tr>\n",
       "      <th>1</th>\n",
       "      <td>NACA 2412</td>\n",
       "      <td>4</td>\n",
       "      <td>0.25</td>\n",
       "      <td>0.04</td>\n",
       "      <td>0.07</td>\n",
       "      <td>None</td>\n",
       "      <td>None</td>\n",
       "    </tr>\n",
       "    <tr>\n",
       "      <th>2</th>\n",
       "      <td>NACA 2412</td>\n",
       "      <td>4</td>\n",
       "      <td>0.25</td>\n",
       "      <td>0.04</td>\n",
       "      <td>0.10</td>\n",
       "      <td>None</td>\n",
       "      <td>None</td>\n",
       "    </tr>\n",
       "    <tr>\n",
       "      <th>3</th>\n",
       "      <td>NACA 2412</td>\n",
       "      <td>4</td>\n",
       "      <td>0.25</td>\n",
       "      <td>0.07</td>\n",
       "      <td>0.04</td>\n",
       "      <td>None</td>\n",
       "      <td>None</td>\n",
       "    </tr>\n",
       "    <tr>\n",
       "      <th>4</th>\n",
       "      <td>NACA 2412</td>\n",
       "      <td>4</td>\n",
       "      <td>0.25</td>\n",
       "      <td>0.07</td>\n",
       "      <td>0.07</td>\n",
       "      <td>None</td>\n",
       "      <td>None</td>\n",
       "    </tr>\n",
       "    <tr>\n",
       "      <th>...</th>\n",
       "      <td>...</td>\n",
       "      <td>...</td>\n",
       "      <td>...</td>\n",
       "      <td>...</td>\n",
       "      <td>...</td>\n",
       "      <td>...</td>\n",
       "      <td>...</td>\n",
       "    </tr>\n",
       "    <tr>\n",
       "      <th>1561</th>\n",
       "      <td>SD7037 ( E )</td>\n",
       "      <td>10</td>\n",
       "      <td>0.45</td>\n",
       "      <td>0.07</td>\n",
       "      <td>0.07</td>\n",
       "      <td>None</td>\n",
       "      <td>None</td>\n",
       "    </tr>\n",
       "    <tr>\n",
       "      <th>1562</th>\n",
       "      <td>SD7037 ( E )</td>\n",
       "      <td>10</td>\n",
       "      <td>0.45</td>\n",
       "      <td>0.07</td>\n",
       "      <td>0.10</td>\n",
       "      <td>None</td>\n",
       "      <td>None</td>\n",
       "    </tr>\n",
       "    <tr>\n",
       "      <th>1563</th>\n",
       "      <td>SD7037 ( E )</td>\n",
       "      <td>10</td>\n",
       "      <td>0.45</td>\n",
       "      <td>0.10</td>\n",
       "      <td>0.04</td>\n",
       "      <td>None</td>\n",
       "      <td>None</td>\n",
       "    </tr>\n",
       "    <tr>\n",
       "      <th>1564</th>\n",
       "      <td>SD7037 ( E )</td>\n",
       "      <td>10</td>\n",
       "      <td>0.45</td>\n",
       "      <td>0.10</td>\n",
       "      <td>0.07</td>\n",
       "      <td>None</td>\n",
       "      <td>None</td>\n",
       "    </tr>\n",
       "    <tr>\n",
       "      <th>1565</th>\n",
       "      <td>SD7037 ( E )</td>\n",
       "      <td>10</td>\n",
       "      <td>0.45</td>\n",
       "      <td>0.10</td>\n",
       "      <td>0.10</td>\n",
       "      <td>None</td>\n",
       "      <td>None</td>\n",
       "    </tr>\n",
       "  </tbody>\n",
       "</table>\n",
       "<p>1566 rows × 7 columns</p>\n",
       "</div>"
      ],
      "text/plain": [
       "          Aerofoil  AR  Taper Ratio     b     h Battery Mass Max Stress\n",
       "0        NACA 2412   4         0.25  0.04  0.04         None       None\n",
       "1        NACA 2412   4         0.25  0.04  0.07         None       None\n",
       "2        NACA 2412   4         0.25  0.04  0.10         None       None\n",
       "3        NACA 2412   4         0.25  0.07  0.04         None       None\n",
       "4        NACA 2412   4         0.25  0.07  0.07         None       None\n",
       "...            ...  ..          ...   ...   ...          ...        ...\n",
       "1561  SD7037 ( E )  10         0.45  0.07  0.07         None       None\n",
       "1562  SD7037 ( E )  10         0.45  0.07  0.10         None       None\n",
       "1563  SD7037 ( E )  10         0.45  0.10  0.04         None       None\n",
       "1564  SD7037 ( E )  10         0.45  0.10  0.07         None       None\n",
       "1565  SD7037 ( E )  10         0.45  0.10  0.10         None       None\n",
       "\n",
       "[1566 rows x 7 columns]"
      ]
     },
     "execution_count": 9,
     "metadata": {},
     "output_type": "execute_result"
    }
   ],
   "source": [
    "df"
   ]
  },
  {
   "cell_type": "code",
   "execution_count": 10,
   "metadata": {},
   "outputs": [
    {
     "data": {
      "application/vnd.jupyter.widget-view+json": {
       "model_id": "0448c793dacb4ee79badc6970bb40eb6",
       "version_major": 2,
       "version_minor": 0
      },
      "text/plain": [
       "HBox(children=(HTML(value=''), FloatProgress(value=0.0, max=1566.0), HTML(value='')))"
      ]
     },
     "metadata": {},
     "output_type": "display_data"
    },
    {
     "name": "stderr",
     "output_type": "stream",
     "text": [
      "C:\\Users\\paras\\Anaconda3\\lib\\site-packages\\ipykernel_launcher.py:5: SettingWithCopyWarning: \n",
      "A value is trying to be set on a copy of a slice from a DataFrame\n",
      "\n",
      "See the caveats in the documentation: https://pandas.pydata.org/pandas-docs/stable/user_guide/indexing.html#returning-a-view-versus-a-copy\n",
      "  \"\"\"\n"
     ]
    },
    {
     "name": "stdout",
     "output_type": "stream",
     "text": [
      "\n"
     ]
    }
   ],
   "source": [
    "for i in trange(len(df.index)):\n",
    "    for key in input_keys:\n",
    "        workbook.change_cell(*input_cell_locations[key],df[key][i])\n",
    "    for key in output_keys:\n",
    "        df[key][i]=workbook.check_cell(*output_cell_locations[key])"
   ]
  },
  {
   "cell_type": "code",
   "execution_count": 16,
   "metadata": {},
   "outputs": [
    {
     "data": {
      "text/html": [
       "<div>\n",
       "<style scoped>\n",
       "    .dataframe tbody tr th:only-of-type {\n",
       "        vertical-align: middle;\n",
       "    }\n",
       "\n",
       "    .dataframe tbody tr th {\n",
       "        vertical-align: top;\n",
       "    }\n",
       "\n",
       "    .dataframe thead th {\n",
       "        text-align: right;\n",
       "    }\n",
       "</style>\n",
       "<table border=\"1\" class=\"dataframe\">\n",
       "  <thead>\n",
       "    <tr style=\"text-align: right;\">\n",
       "      <th></th>\n",
       "      <th>Aerofoil</th>\n",
       "      <th>AR</th>\n",
       "      <th>Taper Ratio</th>\n",
       "      <th>b</th>\n",
       "      <th>h</th>\n",
       "      <th>Battery Mass</th>\n",
       "      <th>Max Stress</th>\n",
       "    </tr>\n",
       "  </thead>\n",
       "  <tbody>\n",
       "    <tr>\n",
       "      <th>0</th>\n",
       "      <td>NACA 2412</td>\n",
       "      <td>4</td>\n",
       "      <td>0.25</td>\n",
       "      <td>0.04</td>\n",
       "      <td>0.04</td>\n",
       "      <td>0.0795432</td>\n",
       "      <td>52337.4</td>\n",
       "    </tr>\n",
       "    <tr>\n",
       "      <th>1</th>\n",
       "      <td>NACA 2412</td>\n",
       "      <td>4</td>\n",
       "      <td>0.25</td>\n",
       "      <td>0.04</td>\n",
       "      <td>0.07</td>\n",
       "      <td>0.0795432</td>\n",
       "      <td>17089.8</td>\n",
       "    </tr>\n",
       "    <tr>\n",
       "      <th>2</th>\n",
       "      <td>NACA 2412</td>\n",
       "      <td>4</td>\n",
       "      <td>0.25</td>\n",
       "      <td>0.04</td>\n",
       "      <td>0.10</td>\n",
       "      <td>0.0795432</td>\n",
       "      <td>8373.99</td>\n",
       "    </tr>\n",
       "    <tr>\n",
       "      <th>3</th>\n",
       "      <td>NACA 2412</td>\n",
       "      <td>4</td>\n",
       "      <td>0.25</td>\n",
       "      <td>0.07</td>\n",
       "      <td>0.04</td>\n",
       "      <td>0.0795432</td>\n",
       "      <td>29907.1</td>\n",
       "    </tr>\n",
       "    <tr>\n",
       "      <th>4</th>\n",
       "      <td>NACA 2412</td>\n",
       "      <td>4</td>\n",
       "      <td>0.25</td>\n",
       "      <td>0.07</td>\n",
       "      <td>0.07</td>\n",
       "      <td>0.0795432</td>\n",
       "      <td>9765.58</td>\n",
       "    </tr>\n",
       "    <tr>\n",
       "      <th>...</th>\n",
       "      <td>...</td>\n",
       "      <td>...</td>\n",
       "      <td>...</td>\n",
       "      <td>...</td>\n",
       "      <td>...</td>\n",
       "      <td>...</td>\n",
       "      <td>...</td>\n",
       "    </tr>\n",
       "    <tr>\n",
       "      <th>1561</th>\n",
       "      <td>SD7037 ( E )</td>\n",
       "      <td>10</td>\n",
       "      <td>0.45</td>\n",
       "      <td>0.07</td>\n",
       "      <td>0.07</td>\n",
       "      <td>0.0566773</td>\n",
       "      <td>9765.58</td>\n",
       "    </tr>\n",
       "    <tr>\n",
       "      <th>1562</th>\n",
       "      <td>SD7037 ( E )</td>\n",
       "      <td>10</td>\n",
       "      <td>0.45</td>\n",
       "      <td>0.07</td>\n",
       "      <td>0.10</td>\n",
       "      <td>0.0566773</td>\n",
       "      <td>4785.14</td>\n",
       "    </tr>\n",
       "    <tr>\n",
       "      <th>1563</th>\n",
       "      <td>SD7037 ( E )</td>\n",
       "      <td>10</td>\n",
       "      <td>0.45</td>\n",
       "      <td>0.10</td>\n",
       "      <td>0.04</td>\n",
       "      <td>0.0566773</td>\n",
       "      <td>20935</td>\n",
       "    </tr>\n",
       "    <tr>\n",
       "      <th>1564</th>\n",
       "      <td>SD7037 ( E )</td>\n",
       "      <td>10</td>\n",
       "      <td>0.45</td>\n",
       "      <td>0.10</td>\n",
       "      <td>0.07</td>\n",
       "      <td>0.0566773</td>\n",
       "      <td>6835.91</td>\n",
       "    </tr>\n",
       "    <tr>\n",
       "      <th>1565</th>\n",
       "      <td>SD7037 ( E )</td>\n",
       "      <td>10</td>\n",
       "      <td>0.45</td>\n",
       "      <td>0.10</td>\n",
       "      <td>0.10</td>\n",
       "      <td>0.0566773</td>\n",
       "      <td>3349.6</td>\n",
       "    </tr>\n",
       "  </tbody>\n",
       "</table>\n",
       "<p>1566 rows × 7 columns</p>\n",
       "</div>"
      ],
      "text/plain": [
       "          Aerofoil  AR  Taper Ratio     b     h Battery Mass Max Stress\n",
       "0        NACA 2412   4         0.25  0.04  0.04    0.0795432    52337.4\n",
       "1        NACA 2412   4         0.25  0.04  0.07    0.0795432    17089.8\n",
       "2        NACA 2412   4         0.25  0.04  0.10    0.0795432    8373.99\n",
       "3        NACA 2412   4         0.25  0.07  0.04    0.0795432    29907.1\n",
       "4        NACA 2412   4         0.25  0.07  0.07    0.0795432    9765.58\n",
       "...            ...  ..          ...   ...   ...          ...        ...\n",
       "1561  SD7037 ( E )  10         0.45  0.07  0.07    0.0566773    9765.58\n",
       "1562  SD7037 ( E )  10         0.45  0.07  0.10    0.0566773    4785.14\n",
       "1563  SD7037 ( E )  10         0.45  0.10  0.04    0.0566773      20935\n",
       "1564  SD7037 ( E )  10         0.45  0.10  0.07    0.0566773    6835.91\n",
       "1565  SD7037 ( E )  10         0.45  0.10  0.10    0.0566773     3349.6\n",
       "\n",
       "[1566 rows x 7 columns]"
      ]
     },
     "execution_count": 16,
     "metadata": {},
     "output_type": "execute_result"
    }
   ],
   "source": [
    "df"
   ]
  }
 ],
 "metadata": {
  "kernelspec": {
   "display_name": "Python 3",
   "language": "python",
   "name": "python3"
  },
  "language_info": {
   "codemirror_mode": {
    "name": "ipython",
    "version": 3
   },
   "file_extension": ".py",
   "mimetype": "text/x-python",
   "name": "python",
   "nbconvert_exporter": "python",
   "pygments_lexer": "ipython3",
   "version": "3.7.9"
  }
 },
 "nbformat": 4,
 "nbformat_minor": 4
}
