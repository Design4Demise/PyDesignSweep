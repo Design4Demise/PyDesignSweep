{
 "cells": [
  {
   "cell_type": "markdown",
   "metadata": {},
   "source": [
    "### Paras' Approach"
   ]
  },
  {
   "cell_type": "code",
   "execution_count": null,
   "metadata": {},
   "outputs": [],
   "source": [
    "from pyxcel.sheet_manager import SheetManager"
   ]
  },
  {
   "cell_type": "code",
   "execution_count": null,
   "metadata": {},
   "outputs": [],
   "source": [
    "from tqdm.notebook import trange,tqdm"
   ]
  },
  {
   "cell_type": "code",
   "execution_count": null,
   "metadata": {},
   "outputs": [],
   "source": [
    "import numpy as np\n",
    "import itertools\n",
    "import pandas as pd\n",
    "import seaborn as sns"
   ]
  },
  {
   "cell_type": "code",
   "execution_count": null,
   "metadata": {},
   "outputs": [],
   "source": [
    "workbook=SheetManager('Design_Spreadsheet.xlsx')"
   ]
  },
  {
   "cell_type": "code",
   "execution_count": null,
   "metadata": {},
   "outputs": [],
   "source": [
    "input_keys=['Aerofoil','AR','Taper Ratio','b','h']\n",
    "input_locations=[('Aerodynamics','V2'),('Aerodynamics','C3'),('Aerodynamics','C7'),('Structures','C2'),('Structures','C3')]\n",
    "input_cell_locations = dict(zip(input_keys,input_locations))\n",
    "input_cell_locations"
   ]
  },
  {
   "cell_type": "code",
   "execution_count": null,
   "metadata": {},
   "outputs": [],
   "source": [
    "aerofoils = workbook.get_cell('Aerofoil Data','A1:A50').value\n",
    "aerofoils= list(filter(None, aerofoils))\n",
    "\n",
    "ARs = np.arange(4,12,3)\n",
    "taper_ratios = np.arange(0.25,0.61,0.2)\n",
    " \n",
    "widths = np.linspace(4,10,3)*1e-2\n",
    "heights = np.linspace(4,10,3)*1e-2"
   ]
  },
  {
   "cell_type": "code",
   "execution_count": null,
   "metadata": {},
   "outputs": [],
   "source": [
    "output_keys=['Battery Mass','Max Stress']\n",
    "output_locations=[('Mass Breakdown','C32'),('Structures','C4')]\n",
    "output_cell_locations = dict(zip(output_keys,output_locations))\n",
    "output_cell_locations"
   ]
  },
  {
   "cell_type": "code",
   "execution_count": null,
   "metadata": {},
   "outputs": [],
   "source": [
    "combinations=list(itertools.product(aerofoils,ARs,taper_ratios,widths,heights))\n",
    "df=pd.DataFrame(combinations,columns=input_keys)\n",
    "for key in output_keys:\n",
    "    df[key]=None\n",
    "    "
   ]
  },
  {
   "cell_type": "code",
   "execution_count": null,
   "metadata": {},
   "outputs": [],
   "source": [
    "df"
   ]
  },
  {
   "cell_type": "code",
   "execution_count": null,
   "metadata": {},
   "outputs": [],
   "source": [
    "for i in trange(len(df.index)):\n",
    "    for key in input_keys:\n",
    "        workbook.change_cell(*input_cell_locations[key],df[key][i])\n",
    "    for key in output_keys:\n",
    "        df[key][i]=workbook.check_cell(*output_cell_locations[key])"
   ]
  },
  {
   "cell_type": "code",
   "execution_count": null,
   "metadata": {},
   "outputs": [],
   "source": [
    "df"
   ]
  },
  {
   "cell_type": "code",
   "execution_count": null,
   "metadata": {},
   "outputs": [],
   "source": []
  },
  {
   "cell_type": "markdown",
   "metadata": {},
   "source": [
    "### Dan's Approach"
   ]
  },
  {
   "cell_type": "markdown",
   "metadata": {},
   "source": [
    "**Imports:**"
   ]
  },
  {
   "cell_type": "code",
   "execution_count": 35,
   "metadata": {},
   "outputs": [],
   "source": [
    "import os\n",
    "import csv\n",
    "import enum\n",
    "import tqdm\n",
    "import numpy as np\n",
    "import itertools\n",
    "import datetime\n",
    "from collections import namedtuple, OrderedDict\n",
    "\n",
    "from pyxcel.sheet_manager import SheetManager\n",
    "from utils.check_spar import check_spar"
   ]
  },
  {
   "cell_type": "markdown",
   "metadata": {},
   "source": [
    "**DS Definitions:**"
   ]
  },
  {
   "cell_type": "code",
   "execution_count": 47,
   "metadata": {},
   "outputs": [],
   "source": [
    "class SheetReference(enum.Enum):\n",
    "    \n",
    "    # inputs\n",
    "    Aerofoil = ('Aerodynamics', 'V2')\n",
    "    AR = ('Aerodynamics', 'C3')\n",
    "    TaperRatio = ('Aerodynamics', 'C7')\n",
    "    \n",
    "    # outputs\n",
    "    BatteryMass = ('Mass Breakdown', 'C32')\n",
    "    MaxStress = ('Structures', 'L78')\n",
    "    \n",
    "    # other\n",
    "    AerofoilRange = ('Aerofoil Data','A1:A50')\n",
    "    Chord = ('Stability', 'K12')\n",
    "    SparWidth = ('Structures', 'C2')\n",
    "    SparHeight = ('Structures', 'C3')"
   ]
  },
  {
   "cell_type": "code",
   "execution_count": 48,
   "metadata": {},
   "outputs": [],
   "source": [
    "class CombinationReference(enum.IntEnum):\n",
    "    \n",
    "    Aerofoil = 0\n",
    "    AR = 1\n",
    "    TaperRatio = 2"
   ]
  },
  {
   "cell_type": "code",
   "execution_count": 49,
   "metadata": {},
   "outputs": [],
   "source": [
    "SparDesign = namedtuple('SparDesign', ('h', 'b', 'ix'))"
   ]
  },
  {
   "cell_type": "markdown",
   "metadata": {},
   "source": [
    "**Problem Setup:**"
   ]
  },
  {
   "cell_type": "code",
   "execution_count": 50,
   "metadata": {},
   "outputs": [],
   "source": [
    "# set tolerance for spar height / width - 0.1 denotes 10%\n",
    "hb_tolerance = 0.1"
   ]
  },
  {
   "cell_type": "code",
   "execution_count": 62,
   "metadata": {},
   "outputs": [],
   "source": [
    "sheet_path = 'tmp_designsheet.xlsx'\n",
    "af_dir = os.path.join(os.getcwd(), 'aerofoil_dat')"
   ]
  },
  {
   "cell_type": "code",
   "execution_count": 63,
   "metadata": {},
   "outputs": [],
   "source": [
    "workbook = SheetManager(sheet_path)"
   ]
  },
  {
   "cell_type": "code",
   "execution_count": 64,
   "metadata": {},
   "outputs": [],
   "source": [
    "input_keys = (SheetReference.Aerofoil, SheetReference.AR, SheetReference.TaperRatio)\n",
    "output_keys = (SheetReference.BatteryMass, SheetReference.MaxStress)"
   ]
  },
  {
   "cell_type": "code",
   "execution_count": 65,
   "metadata": {},
   "outputs": [],
   "source": [
    "# check all input keys are included in CombinationReference\n",
    "assert set(ref.name for ref in CombinationReference) == set(ref.name for ref in input_keys)\n",
    "\n",
    "# check all input/output keys are defined\n",
    "assert all(SheetReference[key.name] is not None for key in itertools.chain(input_keys, output_keys))"
   ]
  },
  {
   "cell_type": "code",
   "execution_count": 66,
   "metadata": {},
   "outputs": [],
   "source": [
    "aerofoils = list(filter(None, workbook.get_cell(*SheetReference.AerofoilRange.value).value))\n",
    "\n",
    "# need to increase resolution here\n",
    "ARs = np.arange(4, 12, 3)\n",
    "taper_ratios = np.arange(0.25, 0.61, 0.2)"
   ]
  },
  {
   "cell_type": "code",
   "execution_count": 67,
   "metadata": {},
   "outputs": [],
   "source": [
    "design_combinations = list(itertools.product(aerofoils, ARs, taper_ratios))"
   ]
  },
  {
   "cell_type": "markdown",
   "metadata": {},
   "source": [
    "**Run Design Sweep:**"
   ]
  },
  {
   "cell_type": "code",
   "execution_count": 68,
   "metadata": {},
   "outputs": [
    {
     "name": "stderr",
     "output_type": "stream",
     "text": [
      "  3%|▎         | 6/180 [00:01<00:45,  3.86it/s]\n"
     ]
    },
    {
     "ename": "TypeError",
     "evalue": "unsupported operand type(s) for *: 'float' and 'NoneType'",
     "output_type": "error",
     "traceback": [
      "\u001b[0;31m---------------------------------------------------------------------------\u001b[0m",
      "\u001b[0;31mTypeError\u001b[0m                                 Traceback (most recent call last)",
      "\u001b[0;32m<ipython-input-68-a0549a9d623b>\u001b[0m in \u001b[0;36m<module>\u001b[0;34m\u001b[0m\n\u001b[1;32m     24\u001b[0m     \u001b[0mchord_length\u001b[0m \u001b[0;34m=\u001b[0m \u001b[0mworkbook\u001b[0m\u001b[0;34m.\u001b[0m\u001b[0mcheck_cell\u001b[0m\u001b[0;34m(\u001b[0m\u001b[0;34m*\u001b[0m\u001b[0mSheetReference\u001b[0m\u001b[0;34m.\u001b[0m\u001b[0mChord\u001b[0m\u001b[0;34m.\u001b[0m\u001b[0mvalue\u001b[0m\u001b[0;34m)\u001b[0m\u001b[0;34m\u001b[0m\u001b[0;34m\u001b[0m\u001b[0m\n\u001b[1;32m     25\u001b[0m \u001b[0;34m\u001b[0m\u001b[0m\n\u001b[0;32m---> 26\u001b[0;31m     \u001b[0mb_range\u001b[0m \u001b[0;34m=\u001b[0m \u001b[0mnp\u001b[0m\u001b[0;34m.\u001b[0m\u001b[0mlinspace\u001b[0m\u001b[0;34m(\u001b[0m\u001b[0;36m1e-2\u001b[0m\u001b[0;34m,\u001b[0m \u001b[0;36m0.9\u001b[0m \u001b[0;34m*\u001b[0m \u001b[0mchord_length\u001b[0m\u001b[0;34m,\u001b[0m \u001b[0;36m10\u001b[0m\u001b[0;34m)\u001b[0m\u001b[0;34m\u001b[0m\u001b[0;34m\u001b[0m\u001b[0m\n\u001b[0m\u001b[1;32m     27\u001b[0m     \u001b[0mh_range\u001b[0m \u001b[0;34m=\u001b[0m \u001b[0mnp\u001b[0m\u001b[0;34m.\u001b[0m\u001b[0mlinspace\u001b[0m\u001b[0;34m(\u001b[0m\u001b[0;36m1e-2\u001b[0m\u001b[0;34m,\u001b[0m \u001b[0mchord_length\u001b[0m \u001b[0;34m/\u001b[0m \u001b[0;36m2\u001b[0m\u001b[0;34m,\u001b[0m \u001b[0;36m10\u001b[0m\u001b[0;34m)\u001b[0m\u001b[0;34m\u001b[0m\u001b[0;34m\u001b[0m\u001b[0m\n\u001b[1;32m     28\u001b[0m \u001b[0;34m\u001b[0m\u001b[0m\n",
      "\u001b[0;31mTypeError\u001b[0m: unsupported operand type(s) for *: 'float' and 'NoneType'"
     ]
    }
   ],
   "source": [
    "# define t_epoch to avoid overwriting file\n",
    "t_epoch = int(datetime.datetime.now().timestamp())\n",
    "csv_path = f'design_sweep_{t_epoch}.csv'\n",
    "\n",
    "for idx, combination in enumerate(tqdm.tqdm(design_combinations)):\n",
    "    \n",
    "    # setup dict\n",
    "    design_params = OrderedDict()\n",
    "    \n",
    "    # change each cell\n",
    "    for key in input_keys:\n",
    "        workbook.change_cell(*key.value, combination[CombinationReference[key.name]])\n",
    "        design_params[key.name] = combination[CombinationReference[key.name]]\n",
    "        \n",
    "    # load aerofoil\n",
    "    af_path = os.path.join(af_dir, f'{combination[CombinationReference.Aerofoil]}.dat')\n",
    "    \n",
    "    try:\n",
    "        af = np.loadtxt(af_path, skiprows=1, delimiter=',')\n",
    "    except OSError:\n",
    "        continue\n",
    "    \n",
    "    # get aerofoil chord length\n",
    "    chord_length = workbook.check_cell(*SheetReference.Chord.value)\n",
    "    \n",
    "    b_range = np.linspace(1e-2, 0.9 * chord_length, 10)\n",
    "    h_range = np.linspace(1e-2, chord_length / 2, 10)\n",
    "    \n",
    "    # get spar with max(ix)\n",
    "    spar = SparDesign(0, 0, 0)\n",
    "    for b, h in itertools.product(b_range, h_range):\n",
    "        ix = b * h ** 3 / 12\n",
    "        \n",
    "        if check_spar(af, chord_length, h, b, h * hb_tolerance, b * hb_tolerance) and ix > spar.ix:\n",
    "            spar = SparDesign(h, b, ix)\n",
    "            \n",
    "    # set spar values\n",
    "    workbook.change_cell(*SheetReference.SparHeight.value, spar.h)\n",
    "    design_params[SheetReference.SparHeight.name] = spar.h\n",
    "    \n",
    "    workbook.change_cell(*SheetReference.SparWidth.value, spar.b)\n",
    "    design_params[SheetReference.SparWidth.name] = spar.b\n",
    "    \n",
    "    for key in output_keys:\n",
    "        design_params[key.name] = workbook.check_cell(*key.value)\n",
    "        \n",
    "    print(design_params)\n",
    "        \n",
    "    # write to csv\n",
    "    csv_exists = os.path.exists(csv_path)\n",
    "    with open(csv_path, 'a+') as csvfile:\n",
    "        writer = csv.DictWriter(csvfile, fieldnames=design_params, delimiter=',', lineterminator='\\n')\n",
    "        \n",
    "        if not csv_exists:\n",
    "            writer.writeheader()\n",
    "            \n",
    "        writer.writerow(design_params)"
   ]
  },
  {
   "cell_type": "code",
   "execution_count": null,
   "metadata": {},
   "outputs": [],
   "source": []
  },
  {
   "cell_type": "code",
   "execution_count": null,
   "metadata": {},
   "outputs": [],
   "source": []
  },
  {
   "cell_type": "code",
   "execution_count": 112,
   "metadata": {},
   "outputs": [],
   "source": [
    "\n",
    "csv_exists = os.path.exists('tmp_test.csv')\n",
    "with open('tmp_test.csv', 'a+') as csvfile:\n",
    "    fieldnames = list(tmp.keys())\n",
    "    writer = csv.DictWriter(csvfile, fieldnames=fieldnames)\n",
    "\n",
    "    if not csv_exists:\n",
    "        print(\"HERE\")\n",
    "        writer.writeheader()\n",
    "        \n",
    "    writer.writerow(tmp)\n",
    "    "
   ]
  },
  {
   "cell_type": "code",
   "execution_count": null,
   "metadata": {},
   "outputs": [],
   "source": []
  },
  {
   "cell_type": "code",
   "execution_count": 82,
   "metadata": {},
   "outputs": [
    {
     "data": {
      "text/plain": [
       "['a', 'b', 'c']"
      ]
     },
     "execution_count": 82,
     "metadata": {},
     "output_type": "execute_result"
    }
   ],
   "source": [
    "fieldnames"
   ]
  },
  {
   "cell_type": "code",
   "execution_count": null,
   "metadata": {},
   "outputs": [],
   "source": []
  }
 ],
 "metadata": {
  "kernelspec": {
   "display_name": "sweepy",
   "language": "python",
   "name": "sweepy"
  },
  "language_info": {
   "codemirror_mode": {
    "name": "ipython",
    "version": 3
   },
   "file_extension": ".py",
   "mimetype": "text/x-python",
   "name": "python",
   "nbconvert_exporter": "python",
   "pygments_lexer": "ipython3",
   "version": "3.8.5"
  }
 },
 "nbformat": 4,
 "nbformat_minor": 4
}
