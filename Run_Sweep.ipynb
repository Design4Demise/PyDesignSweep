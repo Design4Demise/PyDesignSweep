{
 "cells": [
  {
   "cell_type": "markdown",
   "metadata": {},
   "source": [
    "**Imports:**"
   ]
  },
  {
   "cell_type": "code",
   "execution_count": 1,
   "metadata": {},
   "outputs": [],
   "source": [
    "import os\n",
    "import csv\n",
    "import enum\n",
    "from tqdm.notebook import tqdm\n",
    "import numpy as np\n",
    "import itertools\n",
    "import datetime\n",
    "from collections import namedtuple, OrderedDict\n",
    "\n",
    "from pyxcel.sheet_manager import SheetManager\n",
    "from utils.check_spar import check_spar"
   ]
  },
  {
   "cell_type": "markdown",
   "metadata": {},
   "source": [
    "**DS Definitions:**"
   ]
  },
  {
   "cell_type": "code",
   "execution_count": 2,
   "metadata": {},
   "outputs": [],
   "source": [
    "class SheetReference(enum.Enum):\n",
    "    \n",
    "    # inputs\n",
    "    Aerofoil = ('Aerodynamics', 'V2')\n",
    "    AR = ('Aerodynamics', 'C3')\n",
    "    TaperRatio = ('Aerodynamics', 'C7')\n",
    "    \n",
    "    # outputs\n",
    "    BatteryMass = ('Mass Breakdown', 'C33')\n",
    "    MaxStress = ('Structures', 'L78')\n",
    "    \n",
    "    # other\n",
    "    AerofoilRange = ('Aerofoil Data','A4:A31')\n",
    "    Chord = ('Stability', 'B9')\n",
    "    SparWidth = ('Structures', 'A74')\n",
    "    SparHeight = ('Structures', 'B74')"
   ]
  },
  {
   "cell_type": "code",
   "execution_count": 3,
   "metadata": {},
   "outputs": [],
   "source": [
    "class CombinationReference(enum.IntEnum):\n",
    "    \n",
    "    Aerofoil = 0\n",
    "    AR = 1\n",
    "    TaperRatio = 2"
   ]
  },
  {
   "cell_type": "code",
   "execution_count": 4,
   "metadata": {},
   "outputs": [],
   "source": [
    "SparDesign = namedtuple('SparDesign', ('h', 'b', 'ix'))"
   ]
  },
  {
   "cell_type": "code",
   "execution_count": 5,
   "metadata": {},
   "outputs": [
    {
     "data": {
      "text/plain": [
       "['Clark - Y',\n",
       " 'PT - 40 (A)',\n",
       " 'PT - 40 (B)',\n",
       " 'S8037',\n",
       " 'E387 (C)',\n",
       " 'S7075 (A)',\n",
       " 'S7075 (B)',\n",
       " 'SA7035',\n",
       " 'SA7036 (A)',\n",
       " 'SA7036 (B)',\n",
       " 'SA7038',\n",
       " 'SD7037(D)',\n",
       " 'SD7037 ( E )']"
      ]
     },
     "execution_count": 5,
     "metadata": {},
     "output_type": "execute_result"
    }
   ],
   "source": [
    "# selected_aerofoils=['Clark - Y', 'Falcon-56 MkII', 'PT - 40 (A)', 'PT - 40 (B)','S8036','S8037','Trainer 60','E231','E387 (C)', 'S7075 (A)','S7075 (B)','SA7035','SA7036 (A)','SA7036 (B)','SA7038','SD7037(D)','SD7037 ( E )']\n",
    "# selected_aerofoils=['SD7037(D)', 'SA7036 (A)']\n",
    "selected_aerofoils=['Clark - Y', 'PT - 40 (A)', 'PT - 40 (B)','S8037','E387 (C)', 'S7075 (A)','S7075 (B)','SA7035','SA7036 (A)','SA7036 (B)','SA7038','SD7037(D)','SD7037 ( E )']\n",
    "\n",
    "selected_aerofoils"
   ]
  },
  {
   "cell_type": "markdown",
   "metadata": {},
   "source": [
    "**Problem Setup:**"
   ]
  },
  {
   "cell_type": "code",
   "execution_count": 6,
   "metadata": {},
   "outputs": [],
   "source": [
    "# set tolerance for spar height / width (absolute value in meters)\n",
    "hb_tolerance = 0.006"
   ]
  },
  {
   "cell_type": "code",
   "execution_count": 7,
   "metadata": {},
   "outputs": [],
   "source": [
    "sheet_path = 'DesignSpreadsheet.xlsx'\n",
    "af_dir = os.path.join(os.getcwd(), 'aerofoil_dat')"
   ]
  },
  {
   "cell_type": "code",
   "execution_count": 8,
   "metadata": {},
   "outputs": [],
   "source": [
    "workbook = SheetManager(sheet_path)"
   ]
  },
  {
   "cell_type": "code",
   "execution_count": 9,
   "metadata": {},
   "outputs": [],
   "source": [
    "input_keys = (SheetReference.Aerofoil, SheetReference.AR, SheetReference.TaperRatio)\n",
    "output_keys = (SheetReference.BatteryMass, SheetReference.MaxStress)"
   ]
  },
  {
   "cell_type": "code",
   "execution_count": 10,
   "metadata": {},
   "outputs": [],
   "source": [
    "# check all input keys are included in CombinationReference\n",
    "assert set(ref.name for ref in CombinationReference) == set(ref.name for ref in input_keys)\n",
    "\n",
    "# check all input/output keys are defined\n",
    "assert all(SheetReference[key.name] is not None for key in itertools.chain(input_keys, output_keys))"
   ]
  },
  {
   "cell_type": "code",
   "execution_count": 11,
   "metadata": {},
   "outputs": [
    {
     "name": "stdout",
     "output_type": "stream",
     "text": [
      "[1.]\n"
     ]
    }
   ],
   "source": [
    "# aerofoils = list(filter(None, workbook.get_cell(*SheetReference.AerofoilRange.value).value))\n",
    "aerofoils = selected_aerofoils\n",
    "\n",
    "# need to increase resolution here\n",
    "ARs = np.arange(4,10,0.125)\n",
    "taper_ratios = np.arange(1,1.00001,0.05)"
   ]
  },
  {
   "cell_type": "code",
   "execution_count": 12,
   "metadata": {},
   "outputs": [],
   "source": [
    "design_combinations = list(itertools.product(aerofoils, ARs, taper_ratios))"
   ]
  },
  {
   "cell_type": "markdown",
   "metadata": {},
   "source": [
    "**Run Design Sweep:**"
   ]
  },
  {
   "cell_type": "code",
   "execution_count": 14,
   "metadata": {},
   "outputs": [
    {
     "data": {
      "application/vnd.jupyter.widget-view+json": {
       "model_id": "5be6a0b47801449081fdf68b9ae7c651",
       "version_major": 2,
       "version_minor": 0
      },
      "text/plain": [
       "HBox(children=(HTML(value=''), FloatProgress(value=0.0, max=624.0), HTML(value='')))"
      ]
     },
     "metadata": {},
     "output_type": "display_data"
    },
    {
     "name": "stdout",
     "output_type": "stream",
     "text": [
      "\n"
     ]
    }
   ],
   "source": [
    "# define t_epoch to avoid overwriting file\n",
    "t_epoch = int(datetime.datetime.now().timestamp())\n",
    "csv_path = f'design_sweep_{t_epoch}.csv'\n",
    "\n",
    "for idx, combination in enumerate(tqdm(design_combinations)):\n",
    "    \n",
    "    # setup dict\n",
    "    design_params = OrderedDict()\n",
    "    \n",
    "    # change each cell\n",
    "    for key in input_keys:\n",
    "        workbook.change_cell(*key.value, combination[CombinationReference[key.name]])\n",
    "        design_params[key.name] = combination[CombinationReference[key.name]]\n",
    "        \n",
    "    # load aerofoil\n",
    "    af_path = os.path.join(af_dir, f'{combination[CombinationReference.Aerofoil]}.dat')\n",
    "    \n",
    "    try:\n",
    "        af = np.loadtxt(af_path, skiprows=1, delimiter=',')\n",
    "    except OSError:\n",
    "        continue\n",
    "    \n",
    "    # get aerofoil chord length\n",
    "    chord_length = workbook.check_cell(*SheetReference.Chord.value)\n",
    "    \n",
    "    b_range = np.arange(0.01,0.0400001,0.002)#consider multiples of material thickness\n",
    "    h_range = np.arange(0.01,0.0400001,0.005)\n",
    "    \n",
    "    # get spar with max(ix)\n",
    "    spar = SparDesign(0, 0, 0)\n",
    "    for b, h in itertools.product(b_range, h_range):\n",
    "        ix = b * h ** 3 / 12\n",
    "        \n",
    "        if check_spar(af, chord_length, h, b,hb_tolerance,hb_tolerance) and ix > spar.ix:\n",
    "            spar = SparDesign(h, b, ix)\n",
    "    \n",
    "    if spar.h == 0 or spar.b== 0:\n",
    "        design_params[SheetReference.SparHeight.name] = spar.h\n",
    "        design_params[SheetReference.SparWidth.name] = spar.b\n",
    "        for key in output_keys:\n",
    "            design_params[key.name] = 'SPAR FAIL'\n",
    "    else:\n",
    "        # set spar values\n",
    "        workbook.change_cell(*SheetReference.SparHeight.value, spar.h)\n",
    "        design_params[SheetReference.SparHeight.name] = spar.h\n",
    "\n",
    "        workbook.change_cell(*SheetReference.SparWidth.value, spar.b)\n",
    "        design_params[SheetReference.SparWidth.name] = spar.b\n",
    "\n",
    "        for key in output_keys:\n",
    "            design_params[key.name] = workbook.check_cell(*key.value)\n",
    "    \n",
    "    # write to csv\n",
    "    csv_exists = os.path.exists(csv_path)\n",
    "    with open(csv_path, 'a+') as csvfile:\n",
    "        writer = csv.DictWriter(csvfile, fieldnames=design_params, delimiter=',', lineterminator='\\n')\n",
    "        \n",
    "        if not csv_exists:\n",
    "            writer.writeheader()\n",
    "            \n",
    "        writer.writerow(design_params)"
   ]
  },
  {
   "cell_type": "code",
   "execution_count": null,
   "metadata": {},
   "outputs": [],
   "source": []
  }
 ],
 "metadata": {
  "kernelspec": {
   "display_name": "Python 3",
   "language": "python",
   "name": "python3"
  },
  "language_info": {
   "codemirror_mode": {
    "name": "ipython",
    "version": 3
   },
   "file_extension": ".py",
   "mimetype": "text/x-python",
   "name": "python",
   "nbconvert_exporter": "python",
   "pygments_lexer": "ipython3",
   "version": "3.7.9"
  }
 },
 "nbformat": 4,
 "nbformat_minor": 4
}
